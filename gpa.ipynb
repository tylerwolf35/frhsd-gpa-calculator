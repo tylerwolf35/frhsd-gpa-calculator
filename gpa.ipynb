{
 "cells": [
  {
   "cell_type": "markdown",
   "metadata": {},
   "source": [
    "# GPA Calculator (FRHSD)\n",
    "### By Tyler Wolf"
   ]
  },
  {
   "cell_type": "code",
   "execution_count": null,
   "metadata": {},
   "outputs": [],
   "source": [
    "# GPA Calculator (FRHSD) by Tyler Wolf\n",
    "\n",
    "print(\"Calculate your GPA on the FRHSD scale. If there are more courses\\nthen you have just input '0' for both values.\\n\")\n",
    "\n",
    "q1 = float(input(\"What is the weight of the grade? \")) \n",
    "tc1 = float(input(\"How many credits is it worth? \"))\n",
    "qp1 = q1*tc1\n",
    "\n",
    "q2 = float(input(\"What is the weight of the grade ?\"))\n",
    "tc2 = float(input(\"How many credits is it worth? \"))\n",
    "qp2 = q2*tc2\n",
    "\n",
    "q3 = float(input(\"What is the weight of the grade? \"))\n",
    "tc3 = float(input(\"How many credits is it worth? \"))\n",
    "qp3 = q3*tc3\n",
    "\n",
    "q4 = float(input(\"What is the weight of the grade? \"))\n",
    "tc4 = float(input(\"How many credits is it worth? \"))\n",
    "qp4 = q4*tc4\n",
    "\n",
    "q5 = float(input(\"What is the weight of the grade? \"))\n",
    "tc5 = float(input(\"How many credits is it worth? \"))\n",
    "qp5 = q5*tc5\n",
    "\n",
    "q6 = float(input(\"What is the weight of the grade? \"))\n",
    "tc6 = float(input(\"How many credits is it worth? \"))\n",
    "qp6 = q6*tc6\n",
    "\n",
    "q7 = float(input(\"What is the weight of the grade? \"))\n",
    "tc7 = float(input(\"How many credits is it worth? \"))\n",
    "qp7 = q7*tc7\n",
    "\n",
    "q8 = float(input(\"What is the weight of the grade? \"))\n",
    "tc8 = float(input(\"How many credits is it worth? \"))\n",
    "qp8 = q8*tc8\n",
    "\n",
    "TQP = qp1+qp2+qp3+qp4+qp5+qp6+qp7+qp8\n",
    "TCA = tc1+tc2+tc3+tc4+tc5+tc6+tc7+tc8\n",
    "\n",
    "GPA = TQP/TCA\n",
    "\n",
    "print(\"Your GPA is: \",GPA)\n"
   ]
  }
 ],
 "metadata": {
  "kernelspec": {
   "display_name": "Python 3",
   "language": "python",
   "name": "python3"
  },
  "language_info": {
   "codemirror_mode": {
    "name": "ipython",
    "version": 3
   },
   "file_extension": ".py",
   "mimetype": "text/x-python",
   "name": "python",
   "nbconvert_exporter": "python",
   "pygments_lexer": "ipython3",
   "version": "3.7.4"
  }
 },
 "nbformat": 4,
 "nbformat_minor": 2
}
